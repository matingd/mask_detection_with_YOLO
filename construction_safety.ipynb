{
 "cells": [
  {
   "cell_type": "code",
   "execution_count": 1,
   "metadata": {},
   "outputs": [],
   "source": [
    "import torch\n",
    "from ultralytics import YOLO\n",
    "import cv2 as cv\n",
    "import cvzone"
   ]
  },
  {
   "cell_type": "code",
   "execution_count": null,
   "metadata": {},
   "outputs": [],
   "source": [
    "classNames = ['Hardhat','Mask','NO-Hardhat','NO-Mask','NO-Safety west','Person','Vest','Safety','Cone','Safety Vest','machinery','vehicle']\n",
    "\n",
    "device = torch.device(\"mps\") if torch.backends.mps.is_available() else torch.device(\"cpu\")\n",
    "model = YOLO('mask_detection.pt').to(device)\n",
    "video = cv.VideoCapture(0)\n",
    "width = int(video.get(cv.CAP_PROP_FRAME_WIDTH))\n",
    "height = int(video.get(cv.CAP_PROP_FRAME_HEIGHT))\n",
    "fps = int(video.get(cv.CAP_PROP_FPS))\n",
    "\n",
    "# Create a VideoWriter object to save the output video\n",
    "#output_video = cv.VideoWriter(\"mask_detected_video.mp4\", cv.VideoWriter_fourcc(*\"mp4v\"), fps, (width, height))\n",
    "myColor = (0,0,255) \n",
    "while True:\n",
    "    success , frame = video.read()\n",
    "    #frame = cv.flip(frame , 1)\n",
    "    if not success:\n",
    "        break\n",
    "    results = model(frame , stream=True)\n",
    "    for r in results:\n",
    "        boxes = r.boxes\n",
    "        for box in boxes:\n",
    "            x1 , y1 , x2 , y2 = box.xyxy[0]\n",
    "            x1 , y1 , x2 , y2 = int(x1) , int(y1) , int(x2) , int(y2)\n",
    "            w , h = x2 - x1 , y2 - y1\n",
    "            #cvzone.cornerRect(frame , (x1,y1,w,h))\n",
    "            conf = round(float(box.conf[0]) , 2)\n",
    "            cls = int(box.cls[0])\n",
    "            currentClass = classNames[cls]\n",
    "            if currentClass == 'Mask' and conf  > 0.4:\n",
    "                myColor = (0,255,0)\n",
    "                cvzone.putTextRect(frame , f'{classNames[cls]} {conf}' , (max(0 , x1) , max(35,y1)) , scale=1 , thickness=1)\n",
    "                cv.rectangle(frame , (x1,y1) , (x2,y2) , myColor , 3)\n",
    "            if currentClass == 'NO-Mask' and conf  > 0.4:\n",
    "                myColor = (0,0,255)\n",
    "                cvzone.putTextRect(frame , f'{classNames[cls]} {conf}' , (max(0 , x1) , max(35,y1)) , scale=1 , thickness=1)\n",
    "                cv.rectangle(frame , (x1,y1) , (x2,y2) , myColor , 3)\n",
    "    cv.imshow('frame' , frame)\n",
    "    #output_video.write(frame)\n",
    "    if cv.waitKey(1) & 0xff==ord('q'):\n",
    "        break\n",
    "\n",
    "cv.destroyAllWindows()\n",
    "video.release()\n",
    "#output_video.release()"
   ]
  }
 ],
 "metadata": {
  "kernelspec": {
   "display_name": "object_detection",
   "language": "python",
   "name": "python3"
  },
  "language_info": {
   "codemirror_mode": {
    "name": "ipython",
    "version": 3
   },
   "file_extension": ".py",
   "mimetype": "text/x-python",
   "name": "python",
   "nbconvert_exporter": "python",
   "pygments_lexer": "ipython3",
   "version": "3.12.3"
  }
 },
 "nbformat": 4,
 "nbformat_minor": 2
}
